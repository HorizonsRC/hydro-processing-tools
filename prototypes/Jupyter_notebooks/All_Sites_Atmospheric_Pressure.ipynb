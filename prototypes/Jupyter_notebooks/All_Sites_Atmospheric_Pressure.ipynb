{
 "cells": [
  {
   "cell_type": "markdown",
   "metadata": {},
   "source": [
    "# All Sites Atmospheric Pressure"
   ]
  },
  {
   "cell_type": "markdown",
   "metadata": {},
   "source": [
    "The idea here is to trawl all sites and see what the stats are when things are going pretty good. Also comparing raw with processed should be interesint"
   ]
  },
  {
   "cell_type": "code",
   "execution_count": 47,
   "metadata": {},
   "outputs": [],
   "source": [
    "import matplotlib\n",
    "\n",
    "matplotlib.use(\"module://ipympl.backend_nbagg\")\n",
    "from hilltoppy import web_service as ws\n",
    "import hydro_processing_tools.data_acquisition as data_acquisition\n",
    "import hydro_processing_tools.utilities as utilities\n",
    "import matplotlib.pyplot as plt\n",
    "import pandas as pd\n",
    "import numpy as np"
   ]
  },
  {
   "cell_type": "code",
   "execution_count": 4,
   "metadata": {},
   "outputs": [],
   "source": [
    "base_url = \"http://hilltopdev.horizons.govt.nz/\"\n",
    "hts = \"RawLoggerNet.hts\"\n",
    "# site = \"Manawatu at Foxton\"\n",
    "# measurement = \"Atmospheric Pressure\"\n",
    "# from_date = None\n",
    "# to_date = None\n",
    "# parameters=True\n",
    "# quality_codes=True\n",
    "# dtl_method=\"trend\""
   ]
  },
  {
   "cell_type": "code",
   "execution_count": 23,
   "metadata": {},
   "outputs": [
    {
     "data": {
      "text/html": [
       "<div>\n",
       "<style scoped>\n",
       "    .dataframe tbody tr th:only-of-type {\n",
       "        vertical-align: middle;\n",
       "    }\n",
       "\n",
       "    .dataframe tbody tr th {\n",
       "        vertical-align: top;\n",
       "    }\n",
       "\n",
       "    .dataframe thead th {\n",
       "        text-align: right;\n",
       "    }\n",
       "</style>\n",
       "<table border=\"1\" class=\"dataframe\">\n",
       "  <thead>\n",
       "    <tr style=\"text-align: right;\">\n",
       "      <th></th>\n",
       "      <th>SiteName</th>\n",
       "    </tr>\n",
       "  </thead>\n",
       "  <tbody>\n",
       "    <tr>\n",
       "      <th>0</th>\n",
       "      <td>Air Quality at Taihape</td>\n",
       "    </tr>\n",
       "    <tr>\n",
       "      <th>1</th>\n",
       "      <td>Air Quality at Taumarunui</td>\n",
       "    </tr>\n",
       "    <tr>\n",
       "      <th>2</th>\n",
       "      <td>Akitio at Cadmus Bridge</td>\n",
       "    </tr>\n",
       "    <tr>\n",
       "      <th>3</th>\n",
       "      <td>Arawhata Drain at Hokio Beach Road Trial</td>\n",
       "    </tr>\n",
       "    <tr>\n",
       "      <th>4</th>\n",
       "      <td>Hokio at Lake Horowhenua</td>\n",
       "    </tr>\n",
       "    <tr>\n",
       "      <th>5</th>\n",
       "      <td>Lake Horowhenua at Buoy</td>\n",
       "    </tr>\n",
       "    <tr>\n",
       "      <th>6</th>\n",
       "      <td>Lake Horowhenua at Weir</td>\n",
       "    </tr>\n",
       "    <tr>\n",
       "      <th>7</th>\n",
       "      <td>Lake Koitiata</td>\n",
       "    </tr>\n",
       "    <tr>\n",
       "      <th>8</th>\n",
       "      <td>Lake Waipu</td>\n",
       "    </tr>\n",
       "    <tr>\n",
       "      <th>9</th>\n",
       "      <td>Manawatu at Foxton</td>\n",
       "    </tr>\n",
       "    <tr>\n",
       "      <th>10</th>\n",
       "      <td>Manawatu at Hopelands</td>\n",
       "    </tr>\n",
       "    <tr>\n",
       "      <th>11</th>\n",
       "      <td>Manawatu at Te Ao Nui</td>\n",
       "    </tr>\n",
       "    <tr>\n",
       "      <th>12</th>\n",
       "      <td>Manawatu at Teachers College</td>\n",
       "    </tr>\n",
       "    <tr>\n",
       "      <th>13</th>\n",
       "      <td>Manawatu at Victoria Ave</td>\n",
       "    </tr>\n",
       "    <tr>\n",
       "      <th>14</th>\n",
       "      <td>Manawatu at Weber Road</td>\n",
       "    </tr>\n",
       "    <tr>\n",
       "      <th>15</th>\n",
       "      <td>Mangatainoka at Pahiatua Town Bridge</td>\n",
       "    </tr>\n",
       "    <tr>\n",
       "      <th>16</th>\n",
       "      <td>Oroua at Almadale Slackline</td>\n",
       "    </tr>\n",
       "    <tr>\n",
       "      <th>17</th>\n",
       "      <td>Owahanga at Owahanga Station</td>\n",
       "    </tr>\n",
       "    <tr>\n",
       "      <th>18</th>\n",
       "      <td>Rangitikei at Mangaweka</td>\n",
       "    </tr>\n",
       "    <tr>\n",
       "      <th>19</th>\n",
       "      <td>Rangitikei at McKelvies</td>\n",
       "    </tr>\n",
       "    <tr>\n",
       "      <th>20</th>\n",
       "      <td>Rangitikei at Onepuhi</td>\n",
       "    </tr>\n",
       "    <tr>\n",
       "      <th>21</th>\n",
       "      <td>Te Matai Road Aquifer 1</td>\n",
       "    </tr>\n",
       "    <tr>\n",
       "      <th>22</th>\n",
       "      <td>Turakina at Waipu</td>\n",
       "    </tr>\n",
       "    <tr>\n",
       "      <th>23</th>\n",
       "      <td>Wainui at Herbertville Road Br</td>\n",
       "    </tr>\n",
       "    <tr>\n",
       "      <th>24</th>\n",
       "      <td>Whangaehu at Karioi Pulpmill</td>\n",
       "    </tr>\n",
       "    <tr>\n",
       "      <th>25</th>\n",
       "      <td>Whangaehu at Tukino</td>\n",
       "    </tr>\n",
       "    <tr>\n",
       "      <th>26</th>\n",
       "      <td>Whanganui at Te Rewa</td>\n",
       "    </tr>\n",
       "    <tr>\n",
       "      <th>27</th>\n",
       "      <td>Whanganui at Town Bridge</td>\n",
       "    </tr>\n",
       "  </tbody>\n",
       "</table>\n",
       "</div>"
      ],
      "text/plain": [
       "                                    SiteName\n",
       "0                     Air Quality at Taihape\n",
       "1                  Air Quality at Taumarunui\n",
       "2                    Akitio at Cadmus Bridge\n",
       "3   Arawhata Drain at Hokio Beach Road Trial\n",
       "4                   Hokio at Lake Horowhenua\n",
       "5                    Lake Horowhenua at Buoy\n",
       "6                    Lake Horowhenua at Weir\n",
       "7                              Lake Koitiata\n",
       "8                                 Lake Waipu\n",
       "9                         Manawatu at Foxton\n",
       "10                     Manawatu at Hopelands\n",
       "11                     Manawatu at Te Ao Nui\n",
       "12              Manawatu at Teachers College\n",
       "13                  Manawatu at Victoria Ave\n",
       "14                    Manawatu at Weber Road\n",
       "15      Mangatainoka at Pahiatua Town Bridge\n",
       "16               Oroua at Almadale Slackline\n",
       "17              Owahanga at Owahanga Station\n",
       "18                   Rangitikei at Mangaweka\n",
       "19                   Rangitikei at McKelvies\n",
       "20                     Rangitikei at Onepuhi\n",
       "21                   Te Matai Road Aquifer 1\n",
       "22                         Turakina at Waipu\n",
       "23            Wainui at Herbertville Road Br\n",
       "24              Whangaehu at Karioi Pulpmill\n",
       "25                       Whangaehu at Tukino\n",
       "26                      Whanganui at Te Rewa\n",
       "27                  Whanganui at Town Bridge"
      ]
     },
     "metadata": {},
     "output_type": "display_data"
    }
   ],
   "source": [
    "sites_out1 = ws.site_list(base_url, hts, measurement=\"Atmospheric Pressure\")\n",
    "display(sites_out1)"
   ]
  },
  {
   "cell_type": "code",
   "execution_count": 30,
   "metadata": {},
   "outputs": [
    {
     "name": "stdout",
     "output_type": "stream",
     "text": [
      "SiteName    Air Quality at Taihape\n",
      "Name: 0, dtype: object\n"
     ]
    },
    {
     "data": {
      "text/plain": [
       "'Gaps: 224'"
      ]
     },
     "metadata": {},
     "output_type": "display_data"
    },
    {
     "data": {
      "text/plain": [
       "count     53270.000\n",
       "unique    21955.000\n",
       "top         724.877\n",
       "freq         11.000\n",
       "Name: Value, dtype: float64"
      ]
     },
     "metadata": {},
     "output_type": "display_data"
    },
    {
     "name": "stdout",
     "output_type": "stream",
     "text": [
      "SiteName    Air Quality at Taumarunui\n",
      "Name: 1, dtype: object\n"
     ]
    },
    {
     "data": {
      "text/plain": [
       "'Gaps: 2658'"
      ]
     },
     "metadata": {},
     "output_type": "display_data"
    },
    {
     "data": {
      "text/plain": [
       "count     88169\n",
       "unique    27182\n",
       "top           0\n",
       "freq        566\n",
       "Name: Value, dtype: int64"
      ]
     },
     "metadata": {},
     "output_type": "display_data"
    },
    {
     "name": "stdout",
     "output_type": "stream",
     "text": [
      "SiteName    Akitio at Cadmus Bridge\n",
      "Name: 2, dtype: object\n"
     ]
    },
    {
     "data": {
      "text/plain": [
       "'Gaps: 2'"
      ]
     },
     "metadata": {},
     "output_type": "display_data"
    },
    {
     "data": {
      "text/plain": [
       "count    67302.000000\n",
       "mean       972.235815\n",
       "std        122.378224\n",
       "min        571.560000\n",
       "25%       1003.720000\n",
       "50%       1012.020000\n",
       "75%       1018.690000\n",
       "max       1037.040000\n",
       "Name: Value, dtype: float64"
      ]
     },
     "metadata": {},
     "output_type": "display_data"
    },
    {
     "name": "stdout",
     "output_type": "stream",
     "text": [
      "SiteName    Arawhata Drain at Hokio Beach Road Trial\n",
      "Name: 3, dtype: object\n"
     ]
    },
    {
     "data": {
      "text/plain": [
       "'Gaps: 82'"
      ]
     },
     "metadata": {},
     "output_type": "display_data"
    },
    {
     "data": {
      "text/plain": [
       "count    41186.000000\n",
       "mean         1.341951\n",
       "std         20.482222\n",
       "min          0.000000\n",
       "25%          0.000000\n",
       "50%          0.000000\n",
       "75%          0.000000\n",
       "max        337.880000\n",
       "Name: Value, dtype: float64"
      ]
     },
     "metadata": {},
     "output_type": "display_data"
    },
    {
     "name": "stdout",
     "output_type": "stream",
     "text": [
      "SiteName    Hokio at Lake Horowhenua\n",
      "Name: 4, dtype: object\n"
     ]
    },
    {
     "data": {
      "text/plain": [
       "'Gaps: 6'"
      ]
     },
     "metadata": {},
     "output_type": "display_data"
    },
    {
     "data": {
      "text/plain": [
       "count    43400.000000\n",
       "mean      1015.546362\n",
       "std          9.684790\n",
       "min        602.500000\n",
       "25%       1010.400000\n",
       "50%       1015.700000\n",
       "75%       1021.900000\n",
       "max       1042.300000\n",
       "Name: Value, dtype: float64"
      ]
     },
     "metadata": {},
     "output_type": "display_data"
    },
    {
     "name": "stdout",
     "output_type": "stream",
     "text": [
      "SiteName    Lake Horowhenua at Buoy\n",
      "Name: 5, dtype: object\n"
     ]
    },
    {
     "data": {
      "text/plain": [
       "'Gaps: 4087'"
      ]
     },
     "metadata": {},
     "output_type": "display_data"
    },
    {
     "data": {
      "text/plain": [
       "count    146625.000000\n",
       "mean       1016.242868\n",
       "std          11.038726\n",
       "min         602.500000\n",
       "25%        1010.700000\n",
       "50%        1016.900000\n",
       "75%        1022.800000\n",
       "max        1042.300000\n",
       "Name: Value, dtype: float64"
      ]
     },
     "metadata": {},
     "output_type": "display_data"
    },
    {
     "name": "stdout",
     "output_type": "stream",
     "text": [
      "SiteName    Lake Horowhenua at Weir\n",
      "Name: 6, dtype: object\n"
     ]
    },
    {
     "data": {
      "text/plain": [
       "'Gaps: 4541'"
      ]
     },
     "metadata": {},
     "output_type": "display_data"
    },
    {
     "data": {
      "text/plain": [
       "count    292453.000000\n",
       "mean       1014.996703\n",
       "std          10.144274\n",
       "min          13.300000\n",
       "25%        1009.400000\n",
       "50%        1015.600000\n",
       "75%        1021.500000\n",
       "max        1042.300000\n",
       "Name: Value, dtype: float64"
      ]
     },
     "metadata": {},
     "output_type": "display_data"
    },
    {
     "name": "stdout",
     "output_type": "stream",
     "text": [
      "SiteName    Lake Koitiata\n",
      "Name: 7, dtype: object\n"
     ]
    },
    {
     "data": {
      "text/plain": [
       "'Gaps: 0'"
      ]
     },
     "metadata": {},
     "output_type": "display_data"
    },
    {
     "data": {
      "text/plain": [
       "count    106364.000000\n",
       "mean       1012.612062\n",
       "std           9.125160\n",
       "min         974.445000\n",
       "25%        1007.260000\n",
       "50%        1013.280000\n",
       "75%        1018.870000\n",
       "max        1037.080000\n",
       "Name: Value, dtype: float64"
      ]
     },
     "metadata": {},
     "output_type": "display_data"
    },
    {
     "name": "stdout",
     "output_type": "stream",
     "text": [
      "SiteName    Lake Waipu\n",
      "Name: 8, dtype: object\n"
     ]
    },
    {
     "data": {
      "text/plain": [
       "'Gaps: 16311'"
      ]
     },
     "metadata": {},
     "output_type": "display_data"
    },
    {
     "data": {
      "text/plain": [
       "count    12364.000000\n",
       "mean      1016.750943\n",
       "std          9.851373\n",
       "min         -0.010010\n",
       "25%       1012.250000\n",
       "50%       1018.800000\n",
       "75%       1020.050000\n",
       "max       1021.970000\n",
       "Name: Value, dtype: float64"
      ]
     },
     "metadata": {},
     "output_type": "display_data"
    },
    {
     "name": "stdout",
     "output_type": "stream",
     "text": [
      "SiteName    Manawatu at Foxton\n",
      "Name: 9, dtype: object\n"
     ]
    },
    {
     "data": {
      "text/plain": [
       "'Gaps: 1073'"
      ]
     },
     "metadata": {},
     "output_type": "display_data"
    },
    {
     "data": {
      "text/plain": [
       "count    295921.000000\n",
       "mean       1015.477949\n",
       "std           9.266843\n",
       "min         700.864000\n",
       "25%        1009.680000\n",
       "50%        1016.090000\n",
       "75%        1021.880000\n",
       "max        1095.120000\n",
       "Name: Value, dtype: float64"
      ]
     },
     "metadata": {},
     "output_type": "display_data"
    },
    {
     "name": "stdout",
     "output_type": "stream",
     "text": [
      "SiteName    Manawatu at Hopelands\n",
      "Name: 10, dtype: object\n"
     ]
    },
    {
     "data": {
      "text/plain": [
       "'Gaps: 13573'"
      ]
     },
     "metadata": {},
     "output_type": "display_data"
    },
    {
     "data": {
      "text/plain": [
       "count    283421.000000\n",
       "mean       1004.388664\n",
       "std           8.980461\n",
       "min         966.520000\n",
       "25%         998.850000\n",
       "50%        1005.060000\n",
       "75%        1010.620000\n",
       "max        1029.070000\n",
       "Name: Value, dtype: float64"
      ]
     },
     "metadata": {},
     "output_type": "display_data"
    },
    {
     "name": "stdout",
     "output_type": "stream",
     "text": [
      "SiteName    Manawatu at Te Ao Nui\n",
      "Name: 11, dtype: object\n"
     ]
    },
    {
     "data": {
      "text/plain": [
       "'Gaps: 46822'"
      ]
     },
     "metadata": {},
     "output_type": "display_data"
    },
    {
     "data": {
      "text/plain": [
       "count    45419.000000\n",
       "mean    -38973.091431\n",
       "std      49425.891530\n",
       "min     -99837.100000\n",
       "25%     -99837.100000\n",
       "50%       1154.510000\n",
       "75%       1166.010000\n",
       "max       1186.610000\n",
       "Name: Value, dtype: float64"
      ]
     },
     "metadata": {},
     "output_type": "display_data"
    },
    {
     "name": "stdout",
     "output_type": "stream",
     "text": [
      "SiteName    Manawatu at Teachers College\n",
      "Name: 12, dtype: object\n"
     ]
    },
    {
     "data": {
      "text/plain": [
       "'Gaps: 761'"
      ]
     },
     "metadata": {},
     "output_type": "display_data"
    },
    {
     "data": {
      "text/plain": [
       "count    296234.000000\n",
       "mean       1013.243599\n",
       "std           8.971700\n",
       "min         974.830000\n",
       "25%        1007.740000\n",
       "50%        1013.950000\n",
       "75%        1019.460000\n",
       "max        1039.030000\n",
       "Name: Value, dtype: float64"
      ]
     },
     "metadata": {},
     "output_type": "display_data"
    },
    {
     "name": "stdout",
     "output_type": "stream",
     "text": [
      "SiteName    Manawatu at Victoria Ave\n",
      "Name: 13, dtype: object\n"
     ]
    },
    {
     "data": {
      "text/plain": [
       "'Gaps: 106855'"
      ]
     },
     "metadata": {},
     "output_type": "display_data"
    },
    {
     "data": {
      "text/plain": [
       "count    144671.000000\n",
       "mean       1011.782698\n",
       "std           9.093279\n",
       "min         975.710000\n",
       "25%        1006.310000\n",
       "50%        1012.470000\n",
       "75%        1017.890000\n",
       "max        1036.390000\n",
       "Name: Value, dtype: float64"
      ]
     },
     "metadata": {},
     "output_type": "display_data"
    },
    {
     "name": "stdout",
     "output_type": "stream",
     "text": [
      "SiteName    Manawatu at Weber Road\n",
      "Name: 14, dtype: object\n"
     ]
    },
    {
     "data": {
      "text/plain": [
       "'Gaps: 913'"
      ]
     },
     "metadata": {},
     "output_type": "display_data"
    },
    {
     "data": {
      "text/plain": [
       "count    251092.000000\n",
       "mean        995.840396\n",
       "std           8.983567\n",
       "min         957.920000\n",
       "25%         990.300000\n",
       "50%         996.490000\n",
       "75%        1002.160000\n",
       "max        1038.010000\n",
       "Name: Value, dtype: float64"
      ]
     },
     "metadata": {},
     "output_type": "display_data"
    },
    {
     "name": "stdout",
     "output_type": "stream",
     "text": [
      "SiteName    Mangatainoka at Pahiatua Town Bridge\n",
      "Name: 15, dtype: object\n"
     ]
    },
    {
     "data": {
      "text/plain": [
       "'Gaps: 605'"
      ]
     },
     "metadata": {},
     "output_type": "display_data"
    },
    {
     "data": {
      "text/plain": [
       "count    296389.000000\n",
       "mean       1002.295141\n",
       "std           9.021954\n",
       "min         964.200000\n",
       "25%         996.700000\n",
       "50%        1003.000000\n",
       "75%        1008.600000\n",
       "max        1027.500000\n",
       "Name: Value, dtype: float64"
      ]
     },
     "metadata": {},
     "output_type": "display_data"
    },
    {
     "name": "stdout",
     "output_type": "stream",
     "text": [
      "SiteName    Oroua at Almadale Slackline\n",
      "Name: 16, dtype: object\n"
     ]
    },
    {
     "data": {
      "text/plain": [
       "'Gaps: 4'"
      ]
     },
     "metadata": {},
     "output_type": "display_data"
    },
    {
     "data": {
      "text/plain": [
       "count    11514.000000\n",
       "mean       997.256892\n",
       "std          9.780284\n",
       "min        965.890000\n",
       "25%        991.830000\n",
       "50%        998.005000\n",
       "75%       1003.837500\n",
       "max       1019.090000\n",
       "Name: Value, dtype: float64"
      ]
     },
     "metadata": {},
     "output_type": "display_data"
    },
    {
     "name": "stdout",
     "output_type": "stream",
     "text": [
      "SiteName    Owahanga at Owahanga Station\n",
      "Name: 17, dtype: object\n"
     ]
    },
    {
     "data": {
      "text/plain": [
       "'Gaps: 1224'"
      ]
     },
     "metadata": {},
     "output_type": "display_data"
    },
    {
     "data": {
      "text/plain": [
       "count    59441.00000\n",
       "mean      1012.89913\n",
       "std          9.86959\n",
       "min        724.95000\n",
       "25%       1007.25000\n",
       "50%       1013.71000\n",
       "75%       1019.76000\n",
       "max       1037.32000\n",
       "Name: Value, dtype: float64"
      ]
     },
     "metadata": {},
     "output_type": "display_data"
    },
    {
     "name": "stdout",
     "output_type": "stream",
     "text": [
      "SiteName    Rangitikei at Mangaweka\n",
      "Name: 18, dtype: object\n"
     ]
    },
    {
     "data": {
      "text/plain": [
       "'Gaps: 33607'"
      ]
     },
     "metadata": {},
     "output_type": "display_data"
    },
    {
     "data": {
      "text/plain": [
       "count    263387.000000\n",
       "mean        984.761668\n",
       "std           8.591010\n",
       "min         667.490000\n",
       "25%         979.760000\n",
       "50%         985.390000\n",
       "75%         990.910000\n",
       "max        1009.070000\n",
       "Name: Value, dtype: float64"
      ]
     },
     "metadata": {},
     "output_type": "display_data"
    },
    {
     "name": "stdout",
     "output_type": "stream",
     "text": [
      "SiteName    Rangitikei at McKelvies\n",
      "Name: 19, dtype: object\n"
     ]
    },
    {
     "data": {
      "text/plain": [
       "'Gaps: 104'"
      ]
     },
     "metadata": {},
     "output_type": "display_data"
    },
    {
     "data": {
      "text/plain": [
       "count    33603.000000\n",
       "mean      1013.285842\n",
       "std          9.367057\n",
       "min        589.060000\n",
       "25%       1008.470000\n",
       "50%       1013.910000\n",
       "75%       1019.440000\n",
       "max       1035.180000\n",
       "Name: Value, dtype: float64"
      ]
     },
     "metadata": {},
     "output_type": "display_data"
    },
    {
     "name": "stdout",
     "output_type": "stream",
     "text": [
      "SiteName    Rangitikei at Onepuhi\n",
      "Name: 20, dtype: object\n"
     ]
    },
    {
     "data": {
      "text/plain": [
       "'Gaps: 11156'"
      ]
     },
     "metadata": {},
     "output_type": "display_data"
    },
    {
     "data": {
      "text/plain": [
       "count    272876.000000\n",
       "mean        993.796414\n",
       "std          68.760397\n",
       "min         583.180000\n",
       "25%         999.750000\n",
       "50%        1006.320000\n",
       "75%        1011.880000\n",
       "max        1102.210000\n",
       "Name: Value, dtype: float64"
      ]
     },
     "metadata": {},
     "output_type": "display_data"
    },
    {
     "name": "stdout",
     "output_type": "stream",
     "text": [
      "SiteName    Te Matai Road Aquifer 1\n",
      "Name: 21, dtype: object\n"
     ]
    },
    {
     "data": {
      "text/plain": [
       "'Gaps: 7981'"
      ]
     },
     "metadata": {},
     "output_type": "display_data"
    },
    {
     "data": {
      "text/plain": [
       "count    10021.000000\n",
       "mean      1010.970063\n",
       "std          8.652318\n",
       "min        982.800000\n",
       "25%       1007.200000\n",
       "50%       1012.200000\n",
       "75%       1016.600000\n",
       "max       1032.900000\n",
       "Name: Value, dtype: float64"
      ]
     },
     "metadata": {},
     "output_type": "display_data"
    },
    {
     "name": "stdout",
     "output_type": "stream",
     "text": [
      "SiteName    Turakina at Waipu\n",
      "Name: 22, dtype: object\n"
     ]
    },
    {
     "data": {
      "text/plain": [
       "'Gaps: 0'"
      ]
     },
     "metadata": {},
     "output_type": "display_data"
    },
    {
     "data": {
      "text/plain": [
       "count    32361.000000\n",
       "mean       602.895114\n",
       "std         12.569078\n",
       "min        590.600000\n",
       "25%        593.700000\n",
       "50%        597.900000\n",
       "75%        609.000000\n",
       "max        736.700000\n",
       "Name: Value, dtype: float64"
      ]
     },
     "metadata": {},
     "output_type": "display_data"
    },
    {
     "name": "stdout",
     "output_type": "stream",
     "text": [
      "SiteName    Wainui at Herbertville Road Br\n",
      "Name: 23, dtype: object\n"
     ]
    },
    {
     "data": {
      "text/plain": [
       "'Gaps: 16843'"
      ]
     },
     "metadata": {},
     "output_type": "display_data"
    },
    {
     "data": {
      "text/plain": [
       "count    43838.000000\n",
       "mean       966.609235\n",
       "std        107.197732\n",
       "min        720.060000\n",
       "25%       1001.190000\n",
       "50%       1011.660000\n",
       "75%       1018.600000\n",
       "max       1036.680000\n",
       "Name: Value, dtype: float64"
      ]
     },
     "metadata": {},
     "output_type": "display_data"
    },
    {
     "name": "stdout",
     "output_type": "stream",
     "text": [
      "SiteName    Whangaehu at Karioi Pulpmill\n",
      "Name: 24, dtype: object\n"
     ]
    },
    {
     "data": {
      "text/plain": [
       "'Gaps: 39751'"
      ]
     },
     "metadata": {},
     "output_type": "display_data"
    },
    {
     "data": {
      "text/plain": [
       "count    39752.000000\n",
       "mean      1086.914299\n",
       "std          8.128475\n",
       "min       1052.510000\n",
       "25%       1082.310000\n",
       "50%       1087.610000\n",
       "75%       1092.510000\n",
       "max       1109.510000\n",
       "Name: Value, dtype: float64"
      ]
     },
     "metadata": {},
     "output_type": "display_data"
    },
    {
     "name": "stdout",
     "output_type": "stream",
     "text": [
      "SiteName    Whangaehu at Tukino\n",
      "Name: 25, dtype: object\n"
     ]
    },
    {
     "data": {
      "text/plain": [
       "'Gaps: 18212'"
      ]
     },
     "metadata": {},
     "output_type": "display_data"
    },
    {
     "data": {
      "text/plain": [
       "count    90170.000000\n",
       "mean       830.991379\n",
       "std          7.402493\n",
       "min        803.363000\n",
       "25%        826.540000\n",
       "50%        832.101000\n",
       "75%        836.095000\n",
       "max        847.528000\n",
       "Name: Value, dtype: float64"
      ]
     },
     "metadata": {},
     "output_type": "display_data"
    },
    {
     "name": "stdout",
     "output_type": "stream",
     "text": [
      "SiteName    Whanganui at Te Rewa\n",
      "Name: 26, dtype: object\n"
     ]
    },
    {
     "data": {
      "text/plain": [
       "'Gaps: 96'"
      ]
     },
     "metadata": {},
     "output_type": "display_data"
    },
    {
     "data": {
      "text/plain": [
       "count    79403.000000\n",
       "mean      1013.999335\n",
       "std          8.980772\n",
       "min        975.030000\n",
       "25%       1008.880000\n",
       "50%       1014.660000\n",
       "75%       1020.040000\n",
       "max       1039.390000\n",
       "Name: Value, dtype: float64"
      ]
     },
     "metadata": {},
     "output_type": "display_data"
    },
    {
     "name": "stdout",
     "output_type": "stream",
     "text": [
      "SiteName    Whanganui at Town Bridge\n",
      "Name: 27, dtype: object\n"
     ]
    },
    {
     "data": {
      "text/plain": [
       "'Gaps: 783'"
      ]
     },
     "metadata": {},
     "output_type": "display_data"
    },
    {
     "data": {
      "text/plain": [
       "count    296211.000000\n",
       "mean       1009.083968\n",
       "std          46.644038\n",
       "min         369.600000\n",
       "25%        1010.000000\n",
       "50%        1016.000000\n",
       "75%        1022.000000\n",
       "max        1042.000000\n",
       "Name: Value, dtype: float64"
      ]
     },
     "metadata": {},
     "output_type": "display_data"
    }
   ],
   "source": [
    "for i, site in sites_out1.iterrows():\n",
    "    print(site)\n",
    "    name = site.SiteName\n",
    "    try:\n",
    "        atm_data = ws.get_data(base_url, hts, name, \"Atmospheric Pressure\")\n",
    "    except ValueError as e:\n",
    "        print(e)\n",
    "    atm_data = atm_data.set_index(\"Time\")\n",
    "    atm_data.index = pd.to_datetime(atm_data.index)\n",
    "    atm_data = atm_data.asfreq(\"15T\")\n",
    "    print(f\"Gaps: {atm_data['Value'].isna().sum()}\")\n",
    "    display(atm_data[\"Value\"].describe())"
   ]
  },
  {
   "cell_type": "markdown",
   "metadata": {},
   "source": [
    "## Drilling down into an example site\n",
    "\n",
    "This example has many gaps, so there is want for some gap finding/filling methods"
   ]
  },
  {
   "cell_type": "code",
   "execution_count": 65,
   "metadata": {},
   "outputs": [
    {
     "data": {
      "text/html": [
       "<div>\n",
       "<style scoped>\n",
       "    .dataframe tbody tr th:only-of-type {\n",
       "        vertical-align: middle;\n",
       "    }\n",
       "\n",
       "    .dataframe tbody tr th {\n",
       "        vertical-align: top;\n",
       "    }\n",
       "\n",
       "    .dataframe thead th {\n",
       "        text-align: right;\n",
       "    }\n",
       "</style>\n",
       "<table border=\"1\" class=\"dataframe\">\n",
       "  <thead>\n",
       "    <tr style=\"text-align: right;\">\n",
       "      <th></th>\n",
       "      <th>SiteName</th>\n",
       "      <th>MeasurementName</th>\n",
       "      <th>Value</th>\n",
       "    </tr>\n",
       "    <tr>\n",
       "      <th>Time</th>\n",
       "      <th></th>\n",
       "      <th></th>\n",
       "      <th></th>\n",
       "    </tr>\n",
       "  </thead>\n",
       "  <tbody>\n",
       "    <tr>\n",
       "      <th>2023-05-01 11:30:00</th>\n",
       "      <td>Owahanga at Owahanga Station</td>\n",
       "      <td>Atmospheric Pressure</td>\n",
       "      <td>1022.92</td>\n",
       "    </tr>\n",
       "    <tr>\n",
       "      <th>2023-05-01 11:45:00</th>\n",
       "      <td>Owahanga at Owahanga Station</td>\n",
       "      <td>Atmospheric Pressure</td>\n",
       "      <td>1022.81</td>\n",
       "    </tr>\n",
       "    <tr>\n",
       "      <th>2023-05-01 12:00:00</th>\n",
       "      <td>Owahanga at Owahanga Station</td>\n",
       "      <td>Atmospheric Pressure</td>\n",
       "      <td>1022.61</td>\n",
       "    </tr>\n",
       "    <tr>\n",
       "      <th>2023-05-01 12:15:00</th>\n",
       "      <td>Owahanga at Owahanga Station</td>\n",
       "      <td>Atmospheric Pressure</td>\n",
       "      <td>1022.74</td>\n",
       "    </tr>\n",
       "    <tr>\n",
       "      <th>2023-05-01 12:30:00</th>\n",
       "      <td>Owahanga at Owahanga Station</td>\n",
       "      <td>Atmospheric Pressure</td>\n",
       "      <td>1022.46</td>\n",
       "    </tr>\n",
       "    <tr>\n",
       "      <th>...</th>\n",
       "      <td>...</td>\n",
       "      <td>...</td>\n",
       "      <td>...</td>\n",
       "    </tr>\n",
       "    <tr>\n",
       "      <th>2023-10-12 07:30:00</th>\n",
       "      <td>Owahanga at Owahanga Station</td>\n",
       "      <td>Atmospheric Pressure</td>\n",
       "      <td>1007.18</td>\n",
       "    </tr>\n",
       "    <tr>\n",
       "      <th>2023-10-12 07:45:00</th>\n",
       "      <td>Owahanga at Owahanga Station</td>\n",
       "      <td>Atmospheric Pressure</td>\n",
       "      <td>1007.18</td>\n",
       "    </tr>\n",
       "    <tr>\n",
       "      <th>2023-10-12 08:00:00</th>\n",
       "      <td>Owahanga at Owahanga Station</td>\n",
       "      <td>Atmospheric Pressure</td>\n",
       "      <td>1007.10</td>\n",
       "    </tr>\n",
       "    <tr>\n",
       "      <th>2023-10-12 08:15:00</th>\n",
       "      <td>Owahanga at Owahanga Station</td>\n",
       "      <td>Atmospheric Pressure</td>\n",
       "      <td>1007.64</td>\n",
       "    </tr>\n",
       "    <tr>\n",
       "      <th>2023-10-12 08:30:00</th>\n",
       "      <td>Owahanga at Owahanga Station</td>\n",
       "      <td>Atmospheric Pressure</td>\n",
       "      <td>1008.17</td>\n",
       "    </tr>\n",
       "  </tbody>\n",
       "</table>\n",
       "<p>15733 rows × 3 columns</p>\n",
       "</div>"
      ],
      "text/plain": [
       "                                         SiteName       MeasurementName  \\\n",
       "Time                                                                      \n",
       "2023-05-01 11:30:00  Owahanga at Owahanga Station  Atmospheric Pressure   \n",
       "2023-05-01 11:45:00  Owahanga at Owahanga Station  Atmospheric Pressure   \n",
       "2023-05-01 12:00:00  Owahanga at Owahanga Station  Atmospheric Pressure   \n",
       "2023-05-01 12:15:00  Owahanga at Owahanga Station  Atmospheric Pressure   \n",
       "2023-05-01 12:30:00  Owahanga at Owahanga Station  Atmospheric Pressure   \n",
       "...                                           ...                   ...   \n",
       "2023-10-12 07:30:00  Owahanga at Owahanga Station  Atmospheric Pressure   \n",
       "2023-10-12 07:45:00  Owahanga at Owahanga Station  Atmospheric Pressure   \n",
       "2023-10-12 08:00:00  Owahanga at Owahanga Station  Atmospheric Pressure   \n",
       "2023-10-12 08:15:00  Owahanga at Owahanga Station  Atmospheric Pressure   \n",
       "2023-10-12 08:30:00  Owahanga at Owahanga Station  Atmospheric Pressure   \n",
       "\n",
       "                       Value  \n",
       "Time                          \n",
       "2023-05-01 11:30:00  1022.92  \n",
       "2023-05-01 11:45:00  1022.81  \n",
       "2023-05-01 12:00:00  1022.61  \n",
       "2023-05-01 12:15:00  1022.74  \n",
       "2023-05-01 12:30:00  1022.46  \n",
       "...                      ...  \n",
       "2023-10-12 07:30:00  1007.18  \n",
       "2023-10-12 07:45:00  1007.18  \n",
       "2023-10-12 08:00:00  1007.10  \n",
       "2023-10-12 08:15:00  1007.64  \n",
       "2023-10-12 08:30:00  1008.17  \n",
       "\n",
       "[15733 rows x 3 columns]"
      ]
     },
     "metadata": {},
     "output_type": "display_data"
    }
   ],
   "source": [
    "site_name = \"Owahanga at Owahanga Station\"\n",
    "site_data = ws.get_data(\n",
    "    base_url,\n",
    "    hts,\n",
    "    site_name,\n",
    "    \"Atmospheric Pressure\",\n",
    "    from_date=\"2023-05-01 11:30\",\n",
    "    to_date=\"2023-10-12 08:30\",\n",
    ")\n",
    "site_data = site_data.set_index(\"Time\")\n",
    "site_data.index = pd.to_datetime(site_data.index)\n",
    "site_data = site_data.asfreq(\"15T\")\n",
    "display(site_data)"
   ]
  },
  {
   "cell_type": "code",
   "execution_count": 66,
   "metadata": {},
   "outputs": [
    {
     "data": {
      "application/vnd.jupyter.widget-view+json": {
       "model_id": "ae53a8cd76d34872ac1478a0a143e73f",
       "version_major": 2,
       "version_minor": 0
      },
      "image/png": "[encoded data removed]",
      "text/html": [
       "\n",
       "            <div style=\"display: inline-block;\">\n",
       "                <div class=\"jupyter-widgets widget-label\" style=\"text-align: center;\">\n",
       "                    Figure\n",
       "                </div>\n",
       "                <img src='data:image/png;base64,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' width=640.0/>\n",
       "            </div>\n",
       "        "
      ],
      "text/plain": [
       "Canvas(toolbar=Toolbar(toolitems=[('Home', 'Reset original view', 'home', 'home'), ('Back', 'Back to previous …"
      ]
     },
     "metadata": {},
     "output_type": "display_data"
    }
   ],
   "source": [
    "plt.figure(figsize=(20, 6))\n",
    "plt.subplot(1, 1, 1)\n",
    "site_data.plot()\n",
    "plt.title(\"Raw Data\")\n",
    "plt.legend()\n",
    "plt.tight_layout()\n",
    "plt.show()"
   ]
  },
  {
   "cell_type": "markdown",
   "metadata": {},
   "source": [
    "Now we can find all the missing data with isna()"
   ]
  },
  {
   "cell_type": "code",
   "execution_count": 80,
   "metadata": {},
   "outputs": [
    {
     "name": "stdout",
     "output_type": "stream",
     "text": [
      "DatetimeIndex(['2023-05-21 12:30:00', '2023-05-21 12:45:00',\n",
      "               '2023-05-21 13:00:00', '2023-05-21 13:15:00',\n",
      "               '2023-05-21 13:30:00', '2023-05-21 13:45:00',\n",
      "               '2023-05-21 14:00:00', '2023-05-21 14:15:00',\n",
      "               '2023-05-21 14:30:00', '2023-05-21 14:45:00',\n",
      "               ...\n",
      "               '2023-07-12 06:45:00', '2023-07-12 07:00:00',\n",
      "               '2023-07-12 07:15:00', '2023-07-12 07:30:00',\n",
      "               '2023-07-12 07:45:00', '2023-07-12 08:00:00',\n",
      "               '2023-07-12 08:15:00', '2023-07-12 08:30:00',\n",
      "               '2023-07-12 08:45:00', '2023-07-12 09:00:00'],\n",
      "              dtype='datetime64[ns]', name='Time', length=709, freq=None)\n"
     ]
    }
   ],
   "source": [
    "nans = site_data[site_data[\"Value\"].isnull() == True].index\n",
    "print(nans)"
   ]
  },
  {
   "cell_type": "code",
   "execution_count": 86,
   "metadata": {},
   "outputs": [
    {
     "data": {
      "application/vnd.jupyter.widget-view+json": {
       "model_id": "d10b8efed6784ac89076d2267fa91514",
       "version_major": 2,
       "version_minor": 0
      },
      "image/png": "[encoded data removed]",
      "text/html": [
       "\n",
       "            <div style=\"display: inline-block;\">\n",
       "                <div class=\"jupyter-widgets widget-label\" style=\"text-align: center;\">\n",
       "                    Figure\n",
       "                </div>\n",
       "                <img src='data:image/png;base64,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' width=640.0/>\n",
       "            </div>\n",
       "        "
      ],
      "text/plain": [
       "Canvas(toolbar=Toolbar(toolitems=[('Home', 'Reset original view', 'home', 'home'), ('Back', 'Back to previous …"
      ]
     },
     "metadata": {},
     "output_type": "display_data"
    }
   ],
   "source": [
    "plt.figure(figsize=(20, 6))\n",
    "plt.subplot(1, 1, 1)\n",
    "ax = site_data.plot()\n",
    "for nan in nans:\n",
    "    ax.axvline(x=nan, color=\"red\", alpha=0.8)\n",
    "plt.title(\"Raw Data\")\n",
    "plt.legend()\n",
    "plt.tight_layout()\n",
    "plt.show()"
   ]
  },
  {
   "cell_type": "code",
   "execution_count": null,
   "metadata": {},
   "outputs": [],
   "source": []
  }
 ],
 "metadata": {
  "kernelspec": {
   "display_name": "hydro-processing-tools",
   "language": "python",
   "name": "python3"
  },
  "language_info": {
   "codemirror_mode": {
    "name": "ipython",
    "version": 3
   },
   "file_extension": ".py",
   "mimetype": "text/x-python",
   "name": "python",
   "nbconvert_exporter": "python",
   "pygments_lexer": "ipython3",
   "version": "3.10.12"
  }
 },
 "nbformat": 4,
 "nbformat_minor": 2
}
